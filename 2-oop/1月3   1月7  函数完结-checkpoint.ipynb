{
 "cells": [
  {
   "cell_type": "markdown",
   "metadata": {},
   "source": [
    "# 四类参数\n",
    "- 普通参数\n",
    "- 默认参数\n",
    "- 关键字参数\n",
    "- 收集参数\n",
    "\n",
    "## 关键字参数\n",
    "- 语法\n",
    "        def func(p1=v1, p2=v2,...):\n",
    "            func_boby\n",
    "        调用函数:\n",
    "        func(p1 = value1, p2 = value2, ...)\n",
    "- 比较麻烦,但也有好处\n",
    "    - 不容易混淆,一般实参和形参按照位置一一对应即可,容易出错\n",
    "    - 使用关键字参数,可以不考虑参数位置\n",
    "    "
   ]
  },
  {
   "cell_type": "code",
   "execution_count": 13,
   "metadata": {},
   "outputs": [
    {
     "name": "stdout",
     "output_type": "stream",
     "text": [
      "i am a student\n",
      "我叫xiaoming, 我今年18岁了, 我住我家\n"
     ]
    }
   ],
   "source": [
    "# 关键字参数案例\n",
    "def stu(name, age, addr):\n",
    "    print(\"i am a student\")\n",
    "    print(\"我叫{0}, 我今年{1}岁了, 我住{2}\".format(name, age, addr))\n",
    "name = \"xiaoming\"\n",
    "age = 18\n",
    "addr = \"我家\"\n",
    "stu(n, a, addr)"
   ]
  },
  {
   "cell_type": "code",
   "execution_count": 19,
   "metadata": {},
   "outputs": [
    {
     "name": "stdout",
     "output_type": "stream",
     "text": [
      "i am a student\n",
      "我叫xiaoming, 我今年18岁了, 我住我家\n"
     ]
    }
   ],
   "source": [
    "def stu_key(name=\"no name\", age=0, addr=\"no addr\"):\n",
    "    print(\"i am a student\")\n",
    "    print(\"我叫{0}, 我今年{1}岁了, 我住{2}\".format(name, age, addr))\n",
    "\n",
    "    \n",
    "n = \"xiaoming\"\n",
    "a = 18\n",
    "addr = \"我家\"\n",
    "stu_key(name = n, age = a, addr = addr)"
   ]
  },
  {
   "cell_type": "markdown",
   "metadata": {},
   "source": [
    "## 收集参数\n",
    "- 把没有位置,不能和定义时的参数位置相对应的对数,放入一个特定的数据结构中\n",
    "- 语法\n",
    "\n",
    "        def func(*args):\n",
    "            func_boby\n",
    "            按照list使用方式访问args得到传入的参数\n",
    "        调用:\n",
    "        func(p1,p2,p3,...)\n",
    "- 参数名args不是必须这么写,但是,我们推荐用args,约定俗成\n",
    "- 参数args前需要有星号(*),表明这是一个收集参数\n",
    "- 收集参数可以和其他参数共存"
   ]
  },
  {
   "cell_type": "code",
   "execution_count": 24,
   "metadata": {},
   "outputs": [
    {
     "name": "stdout",
     "output_type": "stream",
     "text": [
      "hello 大家好,我现在做一个自我介绍,我简单说两句:\n",
      "<class 'tuple'>\n",
      "zby\n",
      "18\n",
      "北京大学\n",
      "我喜欢jj\n",
      "single\n",
      "hello 大家好,我现在做一个自我介绍,我简单说两句:\n",
      "<class 'tuple'>\n",
      "dandan\n"
     ]
    }
   ],
   "source": [
    "# 收集参数代码\n",
    "# 函数模拟一个学生进行自我介绍,但是具体内容不清楚\n",
    "# args把他看成一个list\n",
    "def stu(*args):\n",
    "    print(\"hello 大家好,我现在做一个自我介绍,我简单说两句:\")\n",
    "    print(type(args))\n",
    "    for item in args:\n",
    "        print(item)\n",
    "\n",
    "stu(\"zby\",18,\"北京大学\",\"我喜欢jj\",\"single\")\n",
    "stu(\"dandan\")\n"
   ]
  },
  {
   "cell_type": "code",
   "execution_count": 26,
   "metadata": {},
   "outputs": [
    {
     "name": "stdout",
     "output_type": "stream",
     "text": [
      "hello 大家好,我现在做一个自我介绍,我简单说两句:\n",
      "<class 'tuple'>\n"
     ]
    }
   ],
   "source": [
    "# 收集参数案例\n",
    "#说明收集参数可以不带任何实参调用.此时收集参数为空tuple\n",
    "stu()\n"
   ]
  },
  {
   "cell_type": "markdown",
   "metadata": {},
   "source": [
    "### 收集参数之关键字收集参数\n",
    "- 把关键字参数按字典格式存入收集参数\n",
    "- 语法:\n",
    "\n",
    "        def func(**kwargs)\n",
    "            func_boby\n",
    "        #调用\n",
    "        func(p1=v1, p2=v2,...)\n",
    "- kwargs一般约定俗成\n",
    "- 调用的时候,把多余的关键字参数放入kwargs\n",
    "- 访问kwargs需要按字典格式访问\n",
    "\n"
   ]
  },
  {
   "cell_type": "code",
   "execution_count": 44,
   "metadata": {},
   "outputs": [
    {
     "name": "stdout",
     "output_type": "stream",
     "text": [
      "hello,大家好:\n",
      "<class 'dict'>\n",
      "name --- zby\n",
      "age --- 19\n",
      "addr --- zby\n",
      "********************\n",
      "hello,大家好:\n",
      "<class 'dict'>\n",
      "name --- dandan\n"
     ]
    }
   ],
   "source": [
    "# 收集参数案例\n",
    "# 自我介绍\n",
    "# 调用的时候需要使用关键字参数调用\n",
    "\n",
    "def stu( **kwargs):\n",
    "    print(\"hello,大家好:\")\n",
    "    print(type(kwargs))\n",
    "    for k,v in kwargs.items():\n",
    "        print(k,\"---\",v)\n",
    "        \n",
    "stu(name=\"zby\", age=19, addr=\"zby\")\n",
    "print(\"*\" * 20)\n",
    "stu(name=\"dandan\")"
   ]
  },
  {
   "cell_type": "code",
   "execution_count": 3,
   "metadata": {},
   "outputs": [
    {
     "ename": "NameError",
     "evalue": "name 'stu' is not defined",
     "output_type": "error",
     "traceback": [
      "\u001b[1;31m---------------------------------------------------------------------------\u001b[0m",
      "\u001b[1;31mNameError\u001b[0m                                 Traceback (most recent call last)",
      "\u001b[1;32m<ipython-input-3-d2ac89f64d1a>\u001b[0m in \u001b[0;36m<module>\u001b[1;34m()\u001b[0m\n\u001b[0;32m      1\u001b[0m \u001b[1;31m# 收集参数可以为空\u001b[0m\u001b[1;33m\u001b[0m\u001b[1;33m\u001b[0m\u001b[0m\n\u001b[1;32m----> 2\u001b[1;33m \u001b[0mstu\u001b[0m\u001b[1;33m(\u001b[0m\u001b[1;33m)\u001b[0m\u001b[1;33m\u001b[0m\u001b[0m\n\u001b[0m",
      "\u001b[1;31mNameError\u001b[0m: name 'stu' is not defined"
     ]
    }
   ],
   "source": [
    "# 收集参数可以为空\n",
    "stu()"
   ]
  },
  {
   "cell_type": "markdown",
   "metadata": {},
   "source": [
    "###  收集参数混合调用的顺序问题\n",
    "- 收集参数,关键字参数,普通参数可以混用\n",
    "- 使用规则就是,普通参数和关键字参数优先\n",
    "- 定义的时候一般找普通参数,关键字参数,收集参数tuple,收集参数dict\n"
   ]
  },
  {
   "cell_type": "code",
   "execution_count": 65,
   "metadata": {},
   "outputs": [
    {
     "ename": "SyntaxError",
     "evalue": "keyword argument repeated (<ipython-input-65-5ea9851e5896>, line 22)",
     "output_type": "error",
     "traceback": [
      "\u001b[1;36m  File \u001b[1;32m\"<ipython-input-65-5ea9851e5896>\"\u001b[1;36m, line \u001b[1;32m22\u001b[0m\n\u001b[1;33m    stu(name, age, \"zby\", \"sdd\", hobby = \"打球\", hobby = \"做饭\", hobby = \"和女生聊天\" )\u001b[0m\n\u001b[1;37m                                                  ^\u001b[0m\n\u001b[1;31mSyntaxError\u001b[0m\u001b[1;31m:\u001b[0m keyword argument repeated\n"
     ]
    }
   ],
   "source": [
    "# 收集参数混合调用\n",
    "# stu模拟学生的自我介绍\n",
    "def stu(name, age, *args, hobby=\"没有\", **kwargs):\n",
    "    print(\"hello,大家好\")\n",
    "    print(\"我叫{0},我今年{1}大了\".format(name,age))\n",
    "    if hobby == \"没有\":\n",
    "        print(\"我没有爱好\")\n",
    "    else:\n",
    "        print(\"我的爱好是{0}\".format(hobby))\n",
    "    print(\"*\" * 20)\n",
    "    \n",
    "    for i in args:\n",
    "        print(i)\n",
    "    print(\"#\"*20)\n",
    "    for k,v in kwargs.items():\n",
    "        print(k, \"---\", v)\n",
    "    \n",
    "name = \"zby\"\n",
    "\n",
    "age = 19\n",
    "\n",
    "stu(name, age, \"zby\", \"sdd\", hobby = \"打球\", hobby = \"做饭\", hobby = \"和女生聊天\" )"
   ]
  },
  {
   "cell_type": "markdown",
   "metadata": {},
   "source": [
    "### 收集参数的解包问题\n",
    "- 把参数放放list或者字典中,直接把list中的值放入收集参数中\n",
    "- 案例\n"
   ]
  },
  {
   "cell_type": "code",
   "execution_count": 43,
   "metadata": {},
   "outputs": [
    {
     "name": "stdout",
     "output_type": "stream",
     "text": [
      "哈哈哈哈\n",
      "<class 'list'>\n",
      "0\n",
      "['zby', 19, 23, 'sdd']\n",
      "哈哈哈哈\n",
      "<class 'str'>\n",
      "0\n",
      "zby\n",
      "<class 'int'>\n",
      "1\n",
      "19\n",
      "<class 'int'>\n",
      "2\n",
      "23\n",
      "<class 'str'>\n",
      "3\n",
      "sdd\n"
     ]
    }
   ],
   "source": [
    "# 收集参数的解包问题\n",
    "\n",
    "def stu (*args):\n",
    "    print(\"哈哈哈哈\")\n",
    "    n = 0\n",
    "    for i in args:\n",
    "        print(type(i))\n",
    "        print(n)\n",
    "        n += 1\n",
    "        print(i)\n",
    "#stu(\"zby\", \"sdd\", 19, 200)\n",
    "\n",
    "l = [\"zby\", 19, 23, \"sdd\"]\n",
    "\n",
    "\n",
    "stu(l)\n",
    "stu(*l)"
   ]
  },
  {
   "cell_type": "markdown",
   "metadata": {},
   "source": [
    "# 返回值\n",
    "\n",
    "\n"
   ]
  },
  {
   "cell_type": "code",
   "execution_count": 46,
   "metadata": {},
   "outputs": [
    {
     "name": "stdout",
     "output_type": "stream",
     "text": [
      "有返回值\n",
      "1\n",
      "没有返回值\n",
      "None\n"
     ]
    }
   ],
   "source": [
    "def func_1():\n",
    "    print(\"有返回值\")\n",
    "    return 1\n",
    "def func_2():\n",
    "    print(\"没有返回值\")\n",
    "    \n",
    "f1 = func_1()\n",
    "print(f1)\n",
    "\n",
    "f2 = func_2()\n",
    "print(f2)"
   ]
  },
  {
   "cell_type": "markdown",
   "metadata": {},
   "source": [
    "#  函数文档\n",
    "- 函数的文档作用是对当前函数提供使用相关的参考信息\n",
    "- 文档的写法:\n",
    "    - 在函数内部开始的和一行使用三字符串定义符\n",
    "    - 一般具有特定格式\n",
    "    - 参看案例"
   ]
  },
  {
   "cell_type": "code",
   "execution_count": 53,
   "metadata": {},
   "outputs": [],
   "source": [
    "# 文档案例\n",
    "# 函数stu是模拟一个学生的自我介绍的内容\n",
    "def stu(name, age, *args):\n",
    "    \"\"\"\n",
    "    1\n",
    "    \"\"\"\n",
    "    print(\"zby\")\n",
    "    "
   ]
  },
  {
   "cell_type": "code",
   "execution_count": 54,
   "metadata": {},
   "outputs": [
    {
     "name": "stdout",
     "output_type": "stream",
     "text": [
      "Help on function stu in module __main__:\n",
      "\n",
      "stu(name, age, *args)\n",
      "    1\n",
      "\n"
     ]
    }
   ],
   "source": [
    "help(stu)"
   ]
  },
  {
   "cell_type": "code",
   "execution_count": 66,
   "metadata": {},
   "outputs": [],
   "source": [
    "stu.__doc__"
   ]
  },
  {
   "cell_type": "code",
   "execution_count": 69,
   "metadata": {},
   "outputs": [
    {
     "ename": "SyntaxError",
     "evalue": "keyword argument repeated (<ipython-input-69-39da2e1792b5>, line 22)",
     "output_type": "error",
     "traceback": [
      "\u001b[1;36m  File \u001b[1;32m\"<ipython-input-69-39da2e1792b5>\"\u001b[1;36m, line \u001b[1;32m22\u001b[0m\n\u001b[1;33m    stu(name, age, \"zby\", \"sdd\", hobby = \"打球\", hobby = \"做饭\", hobby = \"和女生聊天\" )\u001b[0m\n\u001b[1;37m                                                  ^\u001b[0m\n\u001b[1;31mSyntaxError\u001b[0m\u001b[1;31m:\u001b[0m keyword argument repeated\n"
     ]
    }
   ],
   "source": [
    "\n",
    "\n",
    "def stu(name, age, *args, hobby=\"没有\", **kwargs):\n",
    "    print(\"hello,大家好\")\n",
    "    print(\"我叫{0},我今年{1}大了\".format(name,age))\n",
    "    if hobby == \"没有\":\n",
    "        print(\"我没有爱好\")\n",
    "    else:\n",
    "        print(\"我的爱好是{0}\".format(hobby))\n",
    "    print(\"*\" * 20)\n",
    "    \n",
    "    for i in args:\n",
    "        print(i)\n",
    "    print(\"#\"*20)\n",
    "    for k,v in kwargs.items():\n",
    "        print(k, \"---\", v)\n",
    "    \n",
    "name = \"zby\"\n",
    "\n",
    "age = 19\n",
    "\n",
    "stu(name, age, \"zby\", \"sdd\", hobby = \"打球\", hobby = \"做饭\", hobby = \"和女生聊天\" )"
   ]
  },
  {
   "cell_type": "code",
   "execution_count": 93,
   "metadata": {},
   "outputs": [
    {
     "name": "stdout",
     "output_type": "stream",
     "text": [
      "hello,大家好\n",
      "我叫zby,我今年19岁\n",
      "我的爱好是打球\n",
      "张必有\n",
      "宋丹丹\n",
      "hobby2 --- 做饭\n"
     ]
    }
   ],
   "source": [
    "def stu(name, age, *args, hobby = \"没有\", **kwargs):\n",
    "    print(\"hello,大家好\")\n",
    "    print(\"我叫{0},我今年{1}岁\".format(name,age))\n",
    "    if hobby == \"没有\":\n",
    "        print(\"我没有爱好\")\n",
    "    else:\n",
    "        print(\"我的爱好是{0}\".format(hobby))\n",
    "    for i in args:\n",
    "        print(i)\n",
    "    \n",
    "    for k,v in kwargs.items():\n",
    "        print(k, \"---\", v)\n",
    "name = \"zby\"\n",
    "age = 19 \n",
    "stu(name, age,\"张必有\",\"宋丹丹\",hobby = \"打球\",hobby2 = \"做饭\")"
   ]
  }
 ],
 "metadata": {
  "kernelspec": {
   "display_name": "Python 3",
   "language": "python",
   "name": "python3"
  },
  "language_info": {
   "codemirror_mode": {
    "name": "ipython",
    "version": 3
   },
   "file_extension": ".py",
   "mimetype": "text/x-python",
   "name": "python",
   "nbconvert_exporter": "python",
   "pygments_lexer": "ipython3",
   "version": "3.7.0"
  }
 },
 "nbformat": 4,
 "nbformat_minor": 2
}
