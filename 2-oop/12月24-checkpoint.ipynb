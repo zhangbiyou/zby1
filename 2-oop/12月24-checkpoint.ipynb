{
 "cells": [
  {
   "cell_type": "markdown",
   "metadata": {},
   "source": [
    "# 三大结构\n",
    "- 顺序\n",
    "- 分支\n",
    "- 循环\n"
   ]
  },
  {
   "cell_type": "markdown",
   "metadata": {},
   "source": [
    "# 分支\n",
    "- 分支的基本语法\n",
    "  - if 条件表达式：\n",
    "       语句1\n",
    "       语句2\n",
    "       语句3\n",
    "       ……\n",
    "- 条件表达式就是计算结果必须为布尔值的表达式\n",
    "- 表达式后面的冒号不能少\n",
    "- 注意if后面出现的语句，如果属于if语句块，则必须同一个缩进等级\n",
    "- 条件表达工结果为Ture执行if后面的缩进语句块\n",
    "- "
   ]
  },
  {
   "cell_type": "code",
   "execution_count": 1,
   "metadata": {},
   "outputs": [],
   "source": [
    "# if语句练习\n",
    "# 如果age小于18岁，则打印信息“去叫家长”\n",
    "age = 17 \n",
    "if age < 18:\n",
    "    print(\"去叫家长吧，孩子\")\n",
    "    print(\"jhdkjfk\")\n",
    "    print(\"djjdj\")"
   ]
  },
  {
   "cell_type": "code",
   "execution_count": 2,
   "metadata": {},
   "outputs": [],
   "source": [
    "# if语句练习\n",
    "# 如果age小于18岁，则打印信息“去叫家长”\n",
    "age = 19\n",
    "if age < 18:\n",
    "    print(\"去叫家长吧，孩子\")\n",
    "    print(\"jhdkjfk\")\n",
    "    print(\"djjdj\")\n",
    "    \n",
    "print(\"开始上课吧\")"
   ]
  },
  {
   "cell_type": "markdown",
   "metadata": {},
   "source": [
    "## 双向分支\n",
    "- if...else...语句\n",
    "        if 条件表达式:\n",
    "            语句1\n",
    "            语句2\n",
    "            ...\n",
    "        else:\n",
    "            语句1\n",
    "            语句2\n",
    "            ...\n",
    "- 双向分支有两个分支，当程序执行到if...else...语句的时候，一定会执行if或else中的一个，也仅执行一个\n",
    "- 缩进问题，if和else一个层级，其余语句一个层级\n"
   ]
  },
  {
   "cell_type": "code",
   "execution_count": 3,
   "metadata": {},
   "outputs": [],
   "source": [
    "print(\"今天学习for循环\")\n",
    "gender = \"男\"\n",
    "if gender == \"女\":\n",
    "    print(\"来，给你糖吃\")\n",
    "    \n",
    "print(\"开始讲课呢\")"
   ]
  },
  {
   "cell_type": "code",
   "execution_count": null,
   "metadata": {},
   "outputs": [],
   "source": []
  },
  {
   "cell_type": "code",
   "execution_count": null,
   "metadata": {},
   "outputs": [],
   "source": [
    "# input的作用是\n",
    "# 1.在屏幕上输出括号内的字符串\n",
    "# 2.接受用户的内容并返回到程序\n",
    "# 3.input返回的内容一定是字符串类型\n",
    "gender = input(\"请输入性别：\")\n",
    "print(\"你输入的性别是：{0}\".format(gender))\n",
    "      \n",
    "if gender == \"男\":\n",
    "    print(\"来，我们纪念一下今天吧\")\n",
    "else:\n",
    "    print(\"发糖\")\n",
    "print(\"开始上课了\")       "
   ]
  },
  {
   "cell_type": "code",
   "execution_count": null,
   "metadata": {},
   "outputs": [],
   "source": [
    "#考试成绩判断\n",
    "# 90以上：优\n",
    "# 80-90：良\n",
    "# 70-80：中\n",
    "# 60-70：差\n",
    "# 60以下：不及格"
   ]
  },
  {
   "cell_type": "code",
   "execution_count": null,
   "metadata": {},
   "outputs": [],
   "source": [
    "# score 存放学生成绩\n",
    "# 注意input返回的值类型\n",
    "score = input(\"请输入学生成绩：\")\n",
    "#需要把str转化成int\n",
    "score = int(score)\n",
    "if score >= 90:\n",
    "    print(\"a\")\n",
    "if score >= 80 and score < 90:\n",
    "    print(\"b\")\n",
    "if score >= 70 and score < 80:\n",
    "    print(\"c\")\n",
    "if score >= 60 and score < 70:\n",
    "    print(\"d\")\n",
    "if score < 60:\n",
    "    print(\"e\")"
   ]
  },
  {
   "cell_type": "markdown",
   "metadata": {},
   "source": [
    "# 多路分支\n",
    "- 很多分支的情况，简称多路分支\n",
    "\n",
    "        if 条件表达式：\n",
    "            语句1\n",
    "            ...\n",
    "        elif 条件表达式：\n",
    "            语句1\n",
    "            ...\n",
    "        elif 条件表达式：\n",
    "            语句1\n",
    "            ...\n",
    "        ...\n",
    "        else:\n",
    "            语句1\n",
    "            ...\n",
    "            \n",
    "- elif 可以有很多个\n",
    "- else 可选\n",
    "- 多路分支只会选一个执行\n",
    "\n",
    "            \n"
   ]
  },
  {
   "cell_type": "code",
   "execution_count": null,
   "metadata": {},
   "outputs": [],
   "source": [
    "# score 存放学生成绩\n",
    "# 注意input返回的值类型\n",
    "score = input(\"请输入学生成绩：\")\n",
    "#需要把str转化成int\n",
    "score = int(score)\n",
    "if score >= 90:\n",
    "    print(\"a\")\n",
    "elif score >= 80:\n",
    "    print(\"b\")\n",
    "elif score >= 70:\n",
    "    print(\"c\")\n",
    "elif score >= 60:\n",
    "    print(\"d\")\n",
    "else:\n",
    "    print(\"e\")"
   ]
  },
  {
   "cell_type": "markdown",
   "metadata": {},
   "source": [
    "# if 语句其它：\n",
    "- if语句可以嵌套使用，但不推荐\n",
    "- python没有switch-case语句\n"
   ]
  },
  {
   "cell_type": "markdown",
   "metadata": {},
   "source": [
    "# 循环语句\n",
    "- 重复执行某些固定动作或者处理基本固定的事物\n",
    "- 分类\n",
    "    - for循环\n",
    "    - while循环\n",
    "## for循环\n",
    "- for循环\n",
    "    \n",
    "        for 变量 in 序列：\n",
    "            语句1\n",
    "            语句2\n",
    "            ...\n",
    "            "
   ]
  },
  {
   "cell_type": "code",
   "execution_count": null,
   "metadata": {},
   "outputs": [],
   "source": [
    "# 列表就是一列数字或者其它值，一般用中括号表示\n",
    "# 例如{'zhangsan','lisi','wangwu','tiantian'}\n",
    "\n",
    "#打印学生列表姓名\n",
    "for name in {'zhangsan','lisi','wangwu','tiantian'}:\n",
    "    print(name)"
   ]
  },
  {
   "cell_type": "code",
   "execution_count": null,
   "metadata": {},
   "outputs": [],
   "source": [
    "#打印学生列表\n",
    "#如果是jingjing，那肯定是我的最爱呀\n",
    "#如果是别的学生，那么冷酷拒绝他\n",
    "for name in {'zhangsan','lisi','wangwu','tiantian'}:\n",
    "    print(name)\n",
    "    if name == 'wangwu':\n",
    "        print(\"我的最爱{0}出现了\".format(name))\n",
    "    else:\n",
    "        print(\"同学我们不约\")   "
   ]
  },
  {
   "cell_type": "markdown",
   "metadata": {},
   "source": [
    "# range介绍\n",
    "- 生成一个数字序列\n",
    "- 具体的范围可以设定\n"
   ]
  },
  {
   "cell_type": "code",
   "execution_count": null,
   "metadata": {},
   "outputs": [],
   "source": [
    "# range介绍\n",
    "# 打印从1-10的数字\n",
    "#注意，一般在python中，如果由表示数字范围的两个数，一般是包含左边数字，不包含右边的数字\n",
    "#randint是特例，他左右都包含\n",
    "for i in range(1,11):\n",
    "    print(i)"
   ]
  },
  {
   "cell_type": "markdown",
   "metadata": {},
   "source": [
    "## for -else语句\n",
    "- 当for循环结束的时候，会执行else语句\n",
    "- else语句是可选语句\n"
   ]
  },
  {
   "cell_type": "code",
   "execution_count": null,
   "metadata": {},
   "outputs": [],
   "source": [
    "# for-else语句\n",
    "# 打印列表中的同学\n",
    "# 如果没有在列表中，或者列表结束了，我们需要打印提示语句，表示不再爱了\n",
    "\n",
    "#打印学生列表\n",
    "#如果是jingjing，那肯定是我的最爱呀\n",
    "#如果是别的学生，那么冷酷拒绝他\n",
    "for name in {'zhangsan','lisi','wangwu','tiantian'}:\n",
    "    print(name)\n",
    "    if name == 'wangwu':\n",
    "        print(\"我的最爱{0}出现了\".format(name))\n",
    "    else:\n",
    "         print(\"同学我们不约\")   \n",
    "else:\n",
    "    print(\"不再爱了\")"
   ]
  },
  {
   "cell_type": "markdown",
   "metadata": {},
   "source": [
    "## for循环之break，contineu，pass\n",
    "- break:无条件结束整个循环\n",
    "- continue:无条件结束本次循环,重新进入下一轮循环\n",
    "- pass:表示略过,占位符"
   ]
  },
  {
   "cell_type": "code",
   "execution_count": null,
   "metadata": {},
   "outputs": [],
   "source": [
    "# 在1-10中,寻找数字7,一旦找到,打印出来,其余则什么都不做\n",
    "# for循环中的变量表示,一般用i,k,m,n,或者indx,idx,item之类的\n",
    "# 在python中,如果循环变量名称不重要,可以用下划线(_)代替\n",
    "\n",
    "for i in range(1,11):\n",
    "    if i == 7:\n",
    "        print(\"我找到了\")\n",
    "        break\n",
    "    else:\n",
    "        print(i)"
   ]
  },
  {
   "cell_type": "code",
   "execution_count": null,
   "metadata": {},
   "outputs": [],
   "source": [
    "# continue语句练习\n",
    "# 在1-10中,寻找偶数找到偶数后打印偶数\n",
    "\n",
    "for i in range(1,11):\n",
    "    if i % 2 == 1:\n",
    "        continue\n",
    "    else:\n",
    "        print(\"{0}是偶数\".format(i))"
   ]
  },
  {
   "cell_type": "code",
   "execution_count": null,
   "metadata": {},
   "outputs": [],
   "source": [
    "# continue语句练习2\n",
    "# 在1-10中,寻找偶数找到偶数后打印偶数\n",
    "\n",
    "for i in range(1,11):\n",
    "    if i % 2 == 0:\n",
    "        print(\"{0}是偶数\".format(i))"
   ]
  },
  {
   "cell_type": "code",
   "execution_count": null,
   "metadata": {},
   "outputs": [],
   "source": []
  },
  {
   "cell_type": "code",
   "execution_count": 2,
   "metadata": {},
   "outputs": [
    {
     "name": "stdout",
     "output_type": "stream",
     "text": [
      "2是偶数\n",
      "4是偶数\n",
      "6是偶数\n",
      "8是偶数\n",
      "10是偶数\n"
     ]
    }
   ],
   "source": [
    "# continue语句练习2\n",
    "# 在1-10中,寻找偶数找到偶数后打印偶数\n",
    "\n",
    "for i in range(1,11):\n",
    "    if i % 2 == 1:\n",
    "        continue\n",
    "    print(\"{0}是偶数\".format(i))"
   ]
  },
  {
   "cell_type": "code",
   "execution_count": null,
   "metadata": {},
   "outputs": [],
   "source": [
    "print(\"我爱你\")"
   ]
  },
  {
   "cell_type": "code",
   "execution_count": 3,
   "metadata": {},
   "outputs": [
    {
     "name": "stdout",
     "output_type": "stream",
     "text": [
      "2是偶数\n",
      "4是偶数\n",
      "6是偶数\n",
      "8是偶数\n",
      "10是偶数\n"
     ]
    }
   ],
   "source": [
    "for i in range(1,11):\n",
    "    if i % 2 == 1:\n",
    "        continue\n",
    "    print(\"{0}是偶数\".format(i))"
   ]
  },
  {
   "cell_type": "code",
   "execution_count": 6,
   "metadata": {},
   "outputs": [
    {
     "name": "stdout",
     "output_type": "stream",
     "text": [
      "q\n",
      "q\n",
      "q\n",
      "q\n",
      "q\n",
      "q\n",
      "q\n",
      "q\n",
      "q\n",
      "q\n"
     ]
    }
   ],
   "source": [
    "# pass例子,一般用于占位\n",
    "\n",
    "for i in range(1,11):\n",
    "    pass\n",
    "    print(\"q\")"
   ]
  }
 ],
 "metadata": {
  "kernelspec": {
   "display_name": "Python 3",
   "language": "python",
   "name": "python3"
  },
  "language_info": {
   "codemirror_mode": {
    "name": "ipython",
    "version": 3
   },
   "file_extension": ".py",
   "mimetype": "text/x-python",
   "name": "python",
   "nbconvert_exporter": "python",
   "pygments_lexer": "ipython3",
   "version": "3.7.0"
  }
 },
 "nbformat": 4,
 "nbformat_minor": 2
}
