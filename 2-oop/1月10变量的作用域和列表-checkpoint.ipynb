{
 "cells": [
  {
   "cell_type": "markdown",
   "metadata": {},
   "source": [
    "# 变量作用域\n",
    "\n",
    "- 变量由作用范围限制\n",
    "- 分类:按作用域分类\n",
    "    - 全局(global):在函数外部定义\n",
    "    - 局部(local):在函数内部定义\n",
    "- 变量的作用范围:\n",
    "    - 全局变量:在整个全局范围都有效\n",
    "    - 全局变量在局部可以使用(函数内部可以方位函数外部定义的变量)\n",
    "    - 局部变量在局部范围可以使用\n",
    "    - 局部变量在全局范围无法使用\n",
    "- legb原则\n",
    "    - l(local)局部作用域\n",
    "    - e(enclosing function locale)外部嵌套函数作用域\n",
    "    - G(global module)函数定义所在模块作用域\n",
    "    - b(buildin):python内置模块的作用域\n",
    "    "
   ]
  },
  {
   "cell_type": "code",
   "execution_count": null,
   "metadata": {},
   "outputs": [],
   "source": [
    "a1 = 100\n",
    "\n",
    "def fun():\n",
    "    print(a1)\n",
    "    print(\"i am in fun\")\n",
    "    a2 = 99\n",
    "    print(a2)\n",
    "print(a1)\n",
    "fun()"
   ]
  },
  {
   "cell_type": "markdown",
   "metadata": {},
   "source": [
    "##  提升局部变量为全局变量\n",
    "- 使用global\n",
    "- 案例如下"
   ]
  },
  {
   "cell_type": "code",
   "execution_count": null,
   "metadata": {},
   "outputs": [],
   "source": [
    "a1 = 100\n",
    "\n",
    "def fun():\n",
    "    print(a1)\n",
    "    print(\"i am in fun\")\n",
    "    global a2 \n",
    "    a2 = 99\n",
    "    print(a2)\n",
    "print(a1)\n",
    "fun()\n",
    "print(a2)"
   ]
  },
  {
   "cell_type": "code",
   "execution_count": null,
   "metadata": {},
   "outputs": [],
   "source": [
    "b1 = 99\n",
    "def fun():\n",
    "    global b2\n",
    "    b2 = 100\n",
    "fun()\n",
    "print(b2)"
   ]
  },
  {
   "cell_type": "markdown",
   "metadata": {},
   "source": [
    "# globals,locals函数 \n",
    "- 可以通过globals和locals显示局部变量和全局变量\n",
    "- 案例"
   ]
  },
  {
   "cell_type": "code",
   "execution_count": null,
   "metadata": {},
   "outputs": [],
   "source": [
    "# globals和 locals案例\n",
    "# globals 和 locals 叫作内建函数\n",
    "\n",
    "\n",
    "a = 1\n",
    "b = 2\n",
    "def fun(c,d):\n",
    "    e = 111\n",
    "    print(\"Locals{0}\".format(locals()))\n",
    "    print(\"Globals={0}\".format(globals()))\n",
    "fun(100,200)"
   ]
  },
  {
   "cell_type": "markdown",
   "metadata": {},
   "source": [
    "# eval()函数\n",
    "- 把一个字符串当成一个表壳式来执行,返回表壳工执行后的结果\n",
    "- 语法:\n",
    "        \n",
    "        eval(string_code, globals=None, locals=None)\n",
    "      \n",
    "# exec()函数\n",
    "- 跟exec功能类似,但是,不返回结果\n",
    "- 语法:\n",
    "\n",
    "        exec(string_code, globals=None, locals=None)\n",
    "        "
   ]
  },
  {
   "cell_type": "code",
   "execution_count": null,
   "metadata": {},
   "outputs": [],
   "source": [
    "x = 100 \n",
    "y = 200 \n",
    "\n",
    "z = eval(\"x+y\")\n",
    "z1 = x + y\n",
    "print(z)\n",
    "print(z1)"
   ]
  },
  {
   "cell_type": "code",
   "execution_count": null,
   "metadata": {},
   "outputs": [],
   "source": [
    "x = 100 \n",
    "y = 200 \n",
    "\n",
    "z = exec(\"x+y\")\n",
    "z1 = x + y\n",
    "z2 = exec(\"print('x + y:',x + y)\")\n",
    "print(z)\n",
    "print(z1)\n",
    "print(z2)"
   ]
  },
  {
   "cell_type": "markdown",
   "metadata": {},
   "source": [
    "# 递归函数\n",
    "- 函数直接或者间接调用自身\n",
    "- 优点:简洁,理解容易\n",
    "- 缺点:对递归深度有限制,消耗资源大\n",
    "- python对递归深度有限制,超过限制报错\n",
    "- 在写递归程序的时候,一定要注意结束条件\n"
   ]
  },
  {
   "cell_type": "code",
   "execution_count": null,
   "metadata": {},
   "outputs": [],
   "source": [
    "# 递归调用深度限制代码\n",
    "\n",
    "x = 0\n",
    "def fun():\n",
    "    global x\n",
    "    x += 1\n",
    "    print(x)\n",
    "    fun()\n",
    "   \n",
    "fun()"
   ]
  },
  {
   "cell_type": "code",
   "execution_count": 1,
   "metadata": {},
   "outputs": [
    {
     "name": "stdout",
     "output_type": "stream",
     "text": [
      "5\n",
      "1\n"
     ]
    }
   ],
   "source": [
    "# 斐波那契额数列\n",
    "# 一列数字,第一个值是1,每二个值也是1,从第三个开始,每一个数字的值等于前两个数字出现的值的和\n",
    "# 数字公式为: f(1) = 1, f(2) = 1,...,f(n) = f(n-1) + f(n-2)\n",
    "# 例如:1,1,2,3,5,8,13,21,34,55,89,\n",
    "# n表示每n个数字的斐波那契数列的值\n",
    "def fib(n):\n",
    "    if n == 1:\n",
    "        return 1\n",
    "    \n",
    "    if n == 2:\n",
    "        return 1\n",
    "    \n",
    "    return fib(n-1) + fib(n-2)\n",
    "print(fib(5))\n",
    "print(fib(1))\n",
    "\n",
    "    "
   ]
  },
  {
   "cell_type": "markdown",
   "metadata": {},
   "source": [
    "# 内置数据结构(变量类型)\n",
    "- list\n",
    "- set\n",
    "- dict\n",
    "- tuple\n",
    "## list(列表)\n",
    "- 一组有顺序的数据的组合\n",
    "- 创建列表\n",
    "    - 空列表"
   ]
  },
  {
   "cell_type": "code",
   "execution_count": 5,
   "metadata": {},
   "outputs": [
    {
     "name": "stdout",
     "output_type": "stream",
     "text": [
      "<class 'list'>\n",
      "<class 'list'>\n"
     ]
    }
   ],
   "source": [
    "# 创建空列表\n",
    "l1 = []\n",
    "print(type(l1))\n",
    "\n",
    "l2 = [100]\n",
    "print(type(l2))"
   ]
  },
  {
   "cell_type": "markdown",
   "metadata": {},
   "source": [
    "## 列表操作\n",
    "- 访问\n",
    "    - 使用下标操作(索引)\n",
    "    - 列表的位置是从0开始的\n",
    "- 分片操作  \n",
    "    - 对列表进行任意一段的截取\n",
    "    - l[:]\n",
    "    \n",
    "    "
   ]
  },
  {
   "cell_type": "code",
   "execution_count": 17,
   "metadata": {},
   "outputs": [
    {
     "name": "stdout",
     "output_type": "stream",
     "text": [
      "3\n",
      "[2, 3, 4]\n",
      "[1, 2, 3, 4, 56, 7]\n",
      "[1, 2, 3, 4]\n",
      "[3, 4, 56, 7]\n",
      "[2]\n",
      "[56, 3]\n"
     ]
    }
   ],
   "source": [
    "#### 下标访问列表\n",
    "l = [1,2,3,4,56,7]\n",
    "print(l[2])\n",
    "print(l[1:4])\n",
    "print(l[:])\n",
    "print(l[:4])\n",
    "print(l[2:])\n",
    "# 分片可以控制增长幅度\n",
    "print(l[1:6:10])\n",
    "# 下标值为负数,表明顺序是从右往左\n",
    "print(l[-2:-6:-2])"
   ]
  },
  {
   "cell_type": "code",
   "execution_count": null,
   "metadata": {},
   "outputs": [],
   "source": []
  }
 ],
 "metadata": {
  "kernelspec": {
   "display_name": "Python 3",
   "language": "python",
   "name": "python3"
  },
  "language_info": {
   "codemirror_mode": {
    "name": "ipython",
    "version": 3
   },
   "file_extension": ".py",
   "mimetype": "text/x-python",
   "name": "python",
   "nbconvert_exporter": "python",
   "pygments_lexer": "ipython3",
   "version": "3.7.0"
  }
 },
 "nbformat": 4,
 "nbformat_minor": 2
}
