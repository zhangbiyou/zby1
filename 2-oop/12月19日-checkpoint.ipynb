{
 "cells": [
  {
   "cell_type": "markdown",
   "metadata": {},
   "source": [
    "print(\"hello world\")\n",
    "#代码的作用\n",
    "#1.给人看\n",
    "#2.给机器看\n",
    "#注释就是给人看的内容，机器是不去执行的，一般用自然语言书写\n",
    "#行注释：以#号开头，可以在代码后面写\n",
    "#块注释：几行代码或者内容  以三个连续单引号或者双引号开始和结束，中音任何内容机器都忽略\n"
   ]
  },
  {
   "cell_type": "markdown",
   "metadata": {},
   "source": [
    "# 变量\n",
    "- 程序=数据结构+算法\n",
    "- 变量就是可以重复使用的一个量，或者一个代号\n",
    "- 变量的命名规则\n",
    "  - 变量命名可以包含数字，大小写字母，下划线或者更多，但是我们不推荐除了前三种内容之外的符号\n",
    "  - 数字不可以打头  \n",
    "  - 一般在python中，以下划线开关的内容具有特殊含义，不建议使用\n",
    "  - 大小写不一样，俗称大小写敏感\n",
    "  - 推荐：\n",
    "       - 使用具有固定的含义的英文单词或者缩写，srv=server stk=socket,一般以posix命名规则为主\n",
    "       - 驼峰命名法\n",
    "           - 名称以单词连接，且每个单词首字母大写\n",
    "               - 大驼峰，每个单词第一个字母大写\n",
    "                   - 在Python中给类命名的使用方法\n",
    "               - 小驼峰，第一个字母小写\n",
    "                   - 在python中一般给普通变量或者函数命名\n",
    "               - posixp写法\n",
    "                   - 多个单词用下划线连接\n",
    "                   - 单词全部小写\n",
    "                   - my_first_love,ine_one\n",
    "   - 保留字和关键字\n",
    "        - 变量命名必须避开，不能跟关键字和保留字重复\n",
    "        - class, def, break,  for\n",
    "               \n",
    "\n",
    " \n"
   ]
  },
  {
   "cell_type": "code",
   "execution_count": null,
   "metadata": {},
   "outputs": [],
   "source": [
    "#查看关键字的方法\n",
    "import keyword #引入关键字模块\n",
    "print(keyword.kwlist)"
   ]
  },
  {
   "cell_type": "markdown",
   "metadata": {},
   "source": [
    "# 变量的声明\n",
    "- var_name = var_value\n",
    "- var1 = var2 =var3 =var_value#右边往左边读\n",
    "- var1,var2,var3 = v1,v2,v3\n"
   ]
  },
  {
   "cell_type": "code",
   "execution_count": 10,
   "metadata": {},
   "outputs": [
    {
     "name": "stdout",
     "output_type": "stream",
     "text": [
      "18\n",
      "18\n",
      "18\n",
      "18\n",
      "18\n",
      "12\n",
      "21\n",
      "45\n"
     ]
    }
   ],
   "source": [
    "#定义变量age.把18放入age中\n",
    "age = 18\n",
    "print(age)\n",
    "print(18)\n",
    "\n",
    "#给age1,age2,age3放入同样一个内容或者值\n",
    "age1 = age2 =age3 = 18\n",
    "print(age1)\n",
    "print(age2)\n",
    "print(age3)\n",
    "\n",
    "#一行内给多个变量赋值\n",
    "age4, age5, age6 = 12, 21, 45 \n",
    "print(age4)\n",
    "print(age5)\n",
    "print(age6)\n"
   ]
  },
  {
   "cell_type": "markdown",
   "metadata": {},
   "source": [
    "## 变量类型\n",
    "- 严格意义上讲，python只有一个类型\n",
    "- 标准数据一共六种\n",
    "    - 数字类型 Number\n",
    "    - 字符串类型 str\n",
    "    - 列表 list\n",
    "    - 元祖 tuple\n",
    "    - 字典 dictionary\n",
    "    - 集合 set\n",
    "    "
   ]
  },
  {
   "cell_type": "markdown",
   "metadata": {},
   "source": [
    "## Number 数字类型\n",
    "- 数字类型没有大小限制\n",
    "## 整数\n",
    "- 没有小数部分，表示个位数\n",
    "- 自然数，0，负自然数\n",
    "- 整数是分进制的\n",
    "    - 二进制\n",
    "        - 计算机常用\n",
    "        - 是计算机唯一能理解的数字\n",
    "        - 表示为0b开头的数字\n",
    "        - 例如 0b01101, 0b10001\n",
    "    - 八进制\n",
    "        - 不常用\n",
    "        - 以0o开头的包含0-7的数字\n",
    "        \n",
    "    - 十六进制\n",
    "        - 16进1\n",
    "        - 其实是每四位二进制表示一位十六进制\n",
    "        - 包含0-9， a-f\n",
    "        - 数字以0x开头表示\n",
    "    - 十进制\n",
    "        - 18， 89， 178"
   ]
  },
  {
   "cell_type": "code",
   "execution_count": 16,
   "metadata": {},
   "outputs": [
    {
     "name": "stdout",
     "output_type": "stream",
     "text": [
      "18\n",
      "18\n",
      "67\n",
      "255\n"
     ]
    }
   ],
   "source": [
    "age = 18 \n",
    "print(age)\n",
    "\n",
    "age = 0b10010\n",
    "print(age)\n",
    "\n",
    "age = 0o103\n",
    "print(age)\n",
    "\n",
    "age = 0xff #十六进制ff表示二进制的1111 11111\n",
    "print(age)\n"
   ]
  },
  {
   "cell_type": "markdown",
   "metadata": {},
   "source": [
    "### 浮点数\n",
    "- 小数\n",
    "- 计算机里边表示浮点数可以有条件省略\n",
    "- 3.1415\n",
    "- 3.\n",
    "- 0.5 \n",
    "- .5\n",
    "- 科学计数法\n",
    "    - 定义跟数字定义一样\n",
    "    - 写法是用e/E后面跟整数表示10的指数\n",
    "    - 176.23 == 1.7634e2\n",
    "    - 0.876 == 8.76e-1\n",
    "    "
   ]
  },
  {
   "cell_type": "code",
   "execution_count": 19,
   "metadata": {},
   "outputs": [
    {
     "name": "stdout",
     "output_type": "stream",
     "text": [
      "156.34\n",
      "0.2\n",
      "0.6\n"
     ]
    }
   ],
   "source": [
    "height = 156.34\n",
    "print(height)\n",
    "\n",
    "shili = 0.2\n",
    "print(shili)\n",
    "\n",
    "shili = .6\n",
    "print(shili)\n"
   ]
  },
  {
   "cell_type": "markdown",
   "metadata": {},
   "source": [
    "### 复数complex\n",
    "  - 定义同数字定义一样\n",
    "  - 一个由实部和虚部构成的数字\n",
    "  - 虚部用j/J表示\n",
    "  - 5+3j\n",
    "  - (3J)\n",
    "  "
   ]
  },
  {
   "cell_type": "markdown",
   "metadata": {},
   "source": [
    "### 布尔值\n",
    "- 表示真假的值\n",
    "- 只有两个值 ， True/False\n"
   ]
  },
  {
   "cell_type": "code",
   "execution_count": 23,
   "metadata": {},
   "outputs": [
    {
     "name": "stdout",
     "output_type": "stream",
     "text": [
      "19\n"
     ]
    }
   ],
   "source": [
    "#布尔值操作\n",
    "age = 18 + True\n",
    "print(age)"
   ]
  },
  {
   "cell_type": "markdown",
   "metadata": {},
   "source": [
    " ## 字符串\n",
    " - 用来表示一串文字信息\n",
    " - 如何表示\n",
    "     - 单引号\n",
    "     - 双引号\n",
    "     - 三引号（三个单引号或者三个双引号)\n",
    " - 单双引号交错使用"
   ]
  },
  {
   "cell_type": "code",
   "execution_count": 27,
   "metadata": {},
   "outputs": [
    {
     "name": "stdout",
     "output_type": "stream",
     "text": [
      "i love wangxiaojing\n",
      "我爱王小元\n"
     ]
    }
   ],
   "source": [
    "love = \"i love wangxiaojing\"\n",
    "print(love)\n",
    "love = \"我爱王小元\"\n",
    "print(love)\n",
    "\n",
    "# 单双引号交错使用的例子\n",
    "# <a style=\"color:red\">哈哈哈</a>\n",
    "html = '<a style=\"color:red\">哈哈哈</a>'"
   ]
  },
  {
   "cell_type": "code",
   "execution_count": null,
   "metadata": {},
   "outputs": [],
   "source": []
  },
  {
   "cell_type": "code",
   "execution_count": null,
   "metadata": {},
   "outputs": [],
   "source": []
  }
 ],
 "metadata": {
  "kernelspec": {
   "display_name": "Python 3",
   "language": "python",
   "name": "python3"
  },
  "language_info": {
   "codemirror_mode": {
    "name": "ipython",
    "version": 3
   },
   "file_extension": ".py",
   "mimetype": "text/x-python",
   "name": "python",
   "nbconvert_exporter": "python",
   "pygments_lexer": "ipython3",
   "version": "3.7.0"
  }
 },
 "nbformat": 4,
 "nbformat_minor": 2
}
