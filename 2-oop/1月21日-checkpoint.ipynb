{
 "cells": [
  {
   "cell_type": "code",
   "execution_count": 2,
   "metadata": {},
   "outputs": [
    {
     "name": "stdout",
     "output_type": "stream",
     "text": [
      "2\n"
     ]
    }
   ],
   "source": [
    "# count()计算某个元素在元组中出现的次数\n",
    "\n",
    "tuple1 = (2,2,23,4,45,6,4)\n",
    "print(tuple1.count(2))\n",
    "# index()索引\n"
   ]
  },
  {
   "cell_type": "code",
   "execution_count": 4,
   "metadata": {},
   "outputs": [
    {
     "name": "stdout",
     "output_type": "stream",
     "text": [
      "{}\n"
     ]
    }
   ],
   "source": [
    "# clear() 清楚整个字典  返回None\n",
    "\n",
    "dict1 = {\"a\":1, \"b\":2}\n",
    "dict1.clear()\n",
    "print(dict1)"
   ]
  },
  {
   "cell_type": "code",
   "execution_count": 8,
   "metadata": {},
   "outputs": [
    {
     "name": "stdout",
     "output_type": "stream",
     "text": [
      "{'a': None, 'b': None, 'c': None} {'a': 3, 'b': 3, 'c': 3}\n"
     ]
    }
   ],
   "source": [
    "# copy ()复制字典\n",
    "# fromkeys() 按照指定的序列为键 创建字典 值是一样的 \n",
    "\n",
    "list1 = [\"a\",\"b\",\"c\"]\n",
    "dict1 = {}.fromkeys(list1)\n",
    "dict2 = {}.fromkeys(list1,3)\n",
    "print(dict1,dict2)"
   ]
  },
  {
   "cell_type": "code",
   "execution_count": 12,
   "metadata": {},
   "outputs": [
    {
     "name": "stdout",
     "output_type": "stream",
     "text": [
      "2\n",
      "None\n",
      "4\n"
     ]
    }
   ],
   "source": [
    "# get()  根据键获取指定的值  找不到不报错  没有默认值 返回None\n",
    "\n",
    "dict1 = {\"a\":1,\"b\":2,\"c\":3}\n",
    "print(dict1.get(\"b\"))\n",
    "print(dict1.get(\"d\"))\n",
    "print(dict1.get(\"d\",4))\n"
   ]
  },
  {
   "cell_type": "code",
   "execution_count": 18,
   "metadata": {},
   "outputs": [
    {
     "name": "stdout",
     "output_type": "stream",
     "text": [
      "a\n",
      "b\n",
      "c\n",
      "('a', 1)\n",
      "('b', 2)\n",
      "('c', 3)\n",
      "dict_items([('a', 1), ('b', 2), ('c', 3)])\n"
     ]
    }
   ],
   "source": [
    "# items()  将字典变成类似于元组的形式方便遍历\n",
    "\n",
    "dict1 = {\"a\":1, \"b\":2, \"c\":3}\n",
    "for k,v in dict1.items():\n",
    "    print(k)\n",
    "for k in dict1.items():\n",
    "    print(k)\n",
    "print(dict1.items())"
   ]
  },
  {
   "cell_type": "code",
   "execution_count": 25,
   "metadata": {},
   "outputs": [
    {
     "name": "stdout",
     "output_type": "stream",
     "text": [
      "1\n",
      "{'b': 2, 'c': 3}\n",
      "4\n"
     ]
    },
    {
     "ename": "KeyError",
     "evalue": "'d'",
     "output_type": "error",
     "traceback": [
      "\u001b[1;31m---------------------------------------------------------------------------\u001b[0m",
      "\u001b[1;31mKeyError\u001b[0m                                  Traceback (most recent call last)",
      "\u001b[1;32m<ipython-input-25-df9451ccfafa>\u001b[0m in \u001b[0;36m<module>\u001b[1;34m()\u001b[0m\n\u001b[0;32m      5\u001b[0m \u001b[0mprint\u001b[0m\u001b[1;33m(\u001b[0m\u001b[0mdict1\u001b[0m\u001b[1;33m)\u001b[0m\u001b[1;33m\u001b[0m\u001b[0m\n\u001b[0;32m      6\u001b[0m \u001b[0mprint\u001b[0m\u001b[1;33m(\u001b[0m\u001b[0mdict1\u001b[0m\u001b[1;33m.\u001b[0m\u001b[0mpop\u001b[0m\u001b[1;33m(\u001b[0m\u001b[1;34m\"d\"\u001b[0m\u001b[1;33m,\u001b[0m\u001b[1;36m4\u001b[0m\u001b[1;33m)\u001b[0m\u001b[1;33m)\u001b[0m\u001b[1;33m\u001b[0m\u001b[0m\n\u001b[1;32m----> 7\u001b[1;33m \u001b[0mprint\u001b[0m\u001b[1;33m(\u001b[0m\u001b[0mdict1\u001b[0m\u001b[1;33m.\u001b[0m\u001b[0mpop\u001b[0m\u001b[1;33m(\u001b[0m\u001b[1;34m\"d\"\u001b[0m\u001b[1;33m)\u001b[0m\u001b[1;33m)\u001b[0m\u001b[1;33m\u001b[0m\u001b[0m\n\u001b[0m",
      "\u001b[1;31mKeyError\u001b[0m: 'd'"
     ]
    }
   ],
   "source": [
    "# pop()移除指定元素  返回键所对应的值,如果键不存在,则返回默认值 ,没有默认值,,刚报错\n",
    "\n",
    "dict1 = {\"a\":1, \"b\":2, \"c\":3}\n",
    "print(dict1.pop(\"a\"))\n",
    "print(dict1)\n",
    "print(dict1.pop(\"d\",4))\n",
    "print(dict1.pop(\"d\"))"
   ]
  },
  {
   "cell_type": "code",
   "execution_count": 28,
   "metadata": {},
   "outputs": [
    {
     "name": "stdout",
     "output_type": "stream",
     "text": [
      "('d', 4)\n"
     ]
    }
   ],
   "source": [
    "# popitem() 移除字典的键值对  返回移除的健和值\n",
    "\n",
    "dict1 = {\"a\":1, \"b\":2, \"c\":3, \"d\":4}\n",
    "print(dict1.popitem())\n"
   ]
  },
  {
   "cell_type": "code",
   "execution_count": 31,
   "metadata": {},
   "outputs": [
    {
     "name": "stdout",
     "output_type": "stream",
     "text": [
      "4\n",
      "{'a': 1, 'b': 2, 'c': 3, 'd': 4}\n"
     ]
    }
   ],
   "source": [
    "# setdefault()在字典中增加一个元素\n",
    "\n",
    "dict1 = {\"a\":1, \"b\":2, \"c\":3}\n",
    "print(dict1.setdefault(\"d\",4))\n",
    "print(dict1)"
   ]
  },
  {
   "cell_type": "code",
   "execution_count": 33,
   "metadata": {},
   "outputs": [
    {
     "name": "stdout",
     "output_type": "stream",
     "text": [
      "{'a': 4, 'b': 2, 'c': 3}\n"
     ]
    }
   ],
   "source": [
    "# uadate()修改字典中的值\n",
    "\n",
    "\n",
    "dict1 = {\"a\":1, \"b\":2, \"c\":3}\n",
    "dict1.update({\"a\":4})\n",
    "print(dict1)"
   ]
  },
  {
   "cell_type": "code",
   "execution_count": 35,
   "metadata": {},
   "outputs": [
    {
     "name": "stdout",
     "output_type": "stream",
     "text": [
      "set()\n",
      "{1, 2, 3, 4}\n"
     ]
    }
   ],
   "source": [
    "# set \n",
    "\n",
    "a = set()\n",
    "print(a)\n",
    "list1 = [1,2,3,4]\n",
    "a = set(list1)\n",
    "print(a)"
   ]
  },
  {
   "cell_type": "code",
   "execution_count": 45,
   "metadata": {},
   "outputs": [
    {
     "name": "stdout",
     "output_type": "stream",
     "text": [
      "{1, 2, 3, 'a', 5, 7}\n"
     ]
    }
   ],
   "source": [
    "# add()向集合中清添加元素\n",
    "\n",
    "set1 = [1,2,3,5,\"a\"]\n",
    "a = set(set1)\n",
    "a.add(7)\n",
    "print(a)"
   ]
  },
  {
   "cell_type": "code",
   "execution_count": 46,
   "metadata": {},
   "outputs": [
    {
     "name": "stdout",
     "output_type": "stream",
     "text": [
      "[1, 2, 3]\n"
     ]
    }
   ],
   "source": [
    "# clear\n",
    "# copy\n",
    "# pop()随机弹出一个元素\n",
    "a = [1,2,3,\"4\"]\n",
    "a.pop()\n",
    "print(a)"
   ]
  },
  {
   "cell_type": "code",
   "execution_count": null,
   "metadata": {},
   "outputs": [],
   "source": [
    "# remove()\n",
    "# discard()删除"
   ]
  }
 ],
 "metadata": {
  "kernelspec": {
   "display_name": "Python 3",
   "language": "python",
   "name": "python3"
  },
  "language_info": {
   "codemirror_mode": {
    "name": "ipython",
    "version": 3
   },
   "file_extension": ".py",
   "mimetype": "text/x-python",
   "name": "python",
   "nbconvert_exporter": "python",
   "pygments_lexer": "ipython3",
   "version": "3.7.0"
  }
 },
 "nbformat": 4,
 "nbformat_minor": 2
}
