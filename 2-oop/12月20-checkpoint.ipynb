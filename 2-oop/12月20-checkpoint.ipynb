{
 "cells": [
  {
   "cell_type": "markdown",
   "metadata": {},
   "source": [
    "##  字符串\n",
    "-  转义字符\n",
    "-  格式化\n",
    "-  内建函数（后延）\n",
    "## 转义字符\n",
    "-  用一个特殊的方法表示出一系列不方便写出的内容，比如回车键，换行键，退格键\n",
    "-  借助反斜杠字符，一旦字符串中出现反斜杠，则反斜杠后面的一个或者几个字符表示已经不是原来的意思了，进行了转义\n",
    "-  在字符串中，一旦出现了反斜杠，就要加倍小心，可能出现转义字符出现\n",
    "-  不同系统对换行操作有不同的表示\n",
    "    -  windows : \\n\n",
    "    -  Linux:  \\r\\n\n",
    "    \n"
   ]
  },
  {
   "cell_type": "code",
   "execution_count": 1,
   "metadata": {},
   "outputs": [
    {
     "name": "stdout",
     "output_type": "stream",
     "text": [
      "i love you\n"
     ]
    }
   ],
   "source": [
    "s = \"i love you\"\n",
    "print(s)\n"
   ]
  },
  {
   "cell_type": "code",
   "execution_count": 6,
   "metadata": {},
   "outputs": [
    {
     "name": "stdout",
     "output_type": "stream",
     "text": [
      "let's go\n",
      "let's go\n",
      "c:\\user\n",
      "i love \r\n",
      " u \n"
     ]
    }
   ],
   "source": [
    "#如果想表示出 let's go\n",
    "#1 可以使用嵌套引号，即外层使用双引号\n",
    "#2 转义字符\n",
    "#3 \\' == '\n",
    "#4 \\\\ == \\ \n",
    "# 回车换行符\n",
    "\n",
    "s = \"let's go\"\n",
    "print(s)\n",
    "\n",
    "ss = 'let\\'s go'\n",
    "print(ss)\n",
    "sss = \"c:\\\\user\"\n",
    "print(sss)\n",
    "\n",
    "s1 = \"i love \\r\\n u \"\n",
    "print(s1)"
   ]
  },
  {
   "cell_type": "markdown",
   "metadata": {},
   "source": [
    "## 字符串的格式化\n",
    "- 把字符串按照一定的格式打印或者填充\n",
    "- 格式化有两种方法\n",
    "  - 利用百分号（%）\n",
    "  - 利用format函数\n",
    "  \n"
   ]
  },
  {
   "cell_type": "code",
   "execution_count": 13,
   "metadata": {},
   "outputs": [],
   "source": [
    "s = \"xxx 您好，我们要开课了，免费的哦，快点来哦\""
   ]
  },
  {
   "cell_type": "code",
   "execution_count": 15,
   "metadata": {},
   "outputs": [
    {
     "name": "stdout",
     "output_type": "stream",
     "text": [
      "i love songdandan\n"
     ]
    }
   ],
   "source": [
    "s = \"i love %s\"\n",
    "print(s%\"songdandan\")"
   ]
  },
  {
   "cell_type": "code",
   "execution_count": null,
   "metadata": {},
   "outputs": [],
   "source": []
  },
  {
   "cell_type": "code",
   "execution_count": null,
   "metadata": {},
   "outputs": [],
   "source": []
  },
  {
   "cell_type": "markdown",
   "metadata": {},
   "source": [
    "### 利用百分号格式化\n",
    "- 在字符串中，利用%表示一个特殊的含义，表示对字符进行格式化\n",
    "- %d:此处应该放入一个整数\n",
    "- %s：此处应该放入一个字符串\n"
   ]
  },
  {
   "cell_type": "code",
   "execution_count": 10,
   "metadata": {},
   "outputs": [
    {
     "name": "stdout",
     "output_type": "stream",
     "text": [
      "i love %s\n"
     ]
    }
   ],
   "source": [
    "s = \"i love %s\"\n",
    "#下面直接把%s作为一个字符串的一个内容打印出来\n",
    "print(s)"
   ]
  },
  {
   "cell_type": "code",
   "execution_count": 11,
   "metadata": {},
   "outputs": [
    {
     "name": "stdout",
     "output_type": "stream",
     "text": [
      "i love songdandan\n"
     ]
    }
   ],
   "source": [
    "print(\"i love %s\"%\"songdandan\")"
   ]
  },
  {
   "cell_type": "code",
   "execution_count": 12,
   "metadata": {},
   "outputs": [
    {
     "name": "stdout",
     "output_type": "stream",
     "text": [
      "i love songdandan\n"
     ]
    }
   ],
   "source": [
    "print(s%\"songdandan\")"
   ]
  },
  {
   "cell_type": "code",
   "execution_count": 17,
   "metadata": {},
   "outputs": [
    {
     "name": "stdout",
     "output_type": "stream",
     "text": [
      "i a %d years old\n",
      "i a 17 years old\n"
     ]
    }
   ],
   "source": [
    "s = \"i a %d years old\"\n",
    "print(s)\n",
    "print(s%17)\n"
   ]
  },
  {
   "cell_type": "code",
   "execution_count": 25,
   "metadata": {},
   "outputs": [
    {
     "name": "stdout",
     "output_type": "stream",
     "text": [
      "i am %s,i am %d years old\n",
      "i am zby,i am 18 years old\n"
     ]
    }
   ],
   "source": [
    "s = \"i am %s,i am %d years old\"\n",
    "#如果字符串中由占位符，则由几个占位符必须由几个实际内容代替，或者一个也不行\n",
    "print(s)\n",
    "print(s%(\"zby\",18))\n",
    "#如果出现多个占位符，需要用括号括起来\n"
   ]
  },
  {
   "cell_type": "markdown",
   "metadata": {},
   "source": [
    "###  format 函数格式化字符串\n",
    "- 直接用format函数进行格式化\n",
    "- 推荐使用这种方法\n",
    "- 在使用上，以{}和：代替%号，后面用format带参数完成\n",
    "\n"
   ]
  },
  {
   "cell_type": "code",
   "execution_count": 30,
   "metadata": {},
   "outputs": [
    {
     "name": "stdout",
     "output_type": "stream",
     "text": [
      "i love songdandan\n",
      "i am 18 years old, i love zby and i am 18 years old\n"
     ]
    }
   ],
   "source": [
    "s = \"i love {}\".format(\"songdandan\")\n",
    "print(s)\n",
    "s = \"i am {1} years old, i love {0} and i am {1} years old\".format(\"zby\",18)\n",
    "print(s)"
   ]
  },
  {
   "cell_type": "markdown",
   "metadata": {},
   "source": [
    "##  None\n",
    "- 表示什么都没有\n",
    "- 如果函数没有返回值，可以返回NONE\n",
    "- 用来占位置\n",
    "- 用来接触变量绑定\n"
   ]
  },
  {
   "cell_type": "markdown",
   "metadata": {},
   "source": [
    "# 表达式\n",
    "- 同一个或者几个数字或者变量和运算符合成的一行代码\n",
    "- 通常会返回一个结果\n",
    "# 运算符\n",
    "- 由一个以上的值经过变化得到的新值的过程就叫运算\n",
    "- 用于运算的符号就叫运算符\n",
    "- 运算符分类\n",
    "  - 算数运算符\n",
    "  - 比较或者关系运算符\n",
    "  - 赋值运算符\n",
    "  - 逻辑运算符\n",
    "  - 位运算\n",
    "  - 成员运算\n",
    "  - 身份运算\n",
    "  \n",
    "  "
   ]
  },
  {
   "cell_type": "markdown",
   "metadata": {},
   "source": [
    "## 算数运算符\n",
    "- 进行算数运算的符号\n",
    "   - +,-跟正常算数符一样\n",
    "   - 乘号用*\n",
    "   - 除号用/   在python2和python3中，除号（/）结果可能不一致，些处以3系列为准\n",
    "   - %取余运算 \n",
    "   - //表示取商运算，也叫地板除\n",
    "   - **表示幂运算\n",
    "   - python没有自增自减运算符\n",
    "   "
   ]
  },
  {
   "cell_type": "code",
   "execution_count": 35,
   "metadata": {},
   "outputs": [
    {
     "name": "stdout",
     "output_type": "stream",
     "text": [
      "9.666666666666666\n",
      "81\n"
     ]
    }
   ],
   "source": [
    "a = 9+2/3\n",
    "print(a)\n",
    "a = 9 ** 2\n",
    "print(a)"
   ]
  },
  {
   "cell_type": "markdown",
   "metadata": {},
   "source": [
    "## 比较运算符\n",
    "- 对两个变量或者值进行比较的运算符\n",
    "- 比较运算符比较的结果是布尔值，即true/false\n"
   ]
  },
  {
   "cell_type": "code",
   "execution_count": 37,
   "metadata": {},
   "outputs": [
    {
     "name": "stdout",
     "output_type": "stream",
     "text": [
      "False\n",
      "True\n"
     ]
    }
   ],
   "source": [
    "# ==，等于号\n",
    "a == 3 ** 4\n",
    "# 下面语句的执行顺序是\n",
    "# 1 计算a == 80 \n",
    "# 把结果放入b中\n",
    "b = a == 80\n",
    "print(b)\n",
    "\n",
    "# != 不等于\n",
    "print(9 != 8 )\n",
    "# > 大于\n",
    "# <小于\n",
    "# >= 大于等于\n",
    "#<= 小于等于\n"
   ]
  },
  {
   "cell_type": "markdown",
   "metadata": {},
   "source": [
    "## 赋值运算符\n"
   ]
  },
  {
   "cell_type": "code",
   "execution_count": null,
   "metadata": {},
   "outputs": [],
   "source": [
    "# = ,赋值运算符\n",
    "a = 0\n",
    "c = a = 4\n",
    "# +=,是缩写\n",
    "a = 0 \n",
    "a += 7  #a = a + 7\n",
    "# 所有的数学运算符都有缩写形式\n",
    "\n",
    "# -=，*=，/=,//=,%=，**=\n",
    "\n"
   ]
  },
  {
   "cell_type": "markdown",
   "metadata": {},
   "source": [
    "# 逻辑运算符\n",
    "- 对布尔值进去计算的符号\n",
    "- and 逻辑与\n",
    "- or 逻辑或\n",
    "- not 逻辑非\n",
    "- python中逻辑运算没有异或运算\n",
    "- 运算规则：\n",
    "  - and 看作乘法， or看做加法\n",
    "  - Ture看做1，False看做0\n",
    "  - 则逻辑运算就是能转化成整数数学运算\n",
    "  - 最后结果如果是0则为False 否则为True\n",
    "- 逻辑运算的短路问题\n",
    "  - 逻辑运算式，按照运算顺序计算，一旦能够确定整个式子未来的值，则不再进行计算，直接返回\n",
    "  \n",
    "  "
   ]
  },
  {
   "cell_type": "code",
   "execution_count": 39,
   "metadata": {},
   "outputs": [
    {
     "name": "stdout",
     "output_type": "stream",
     "text": [
      "True\n",
      "True\n"
     ]
    }
   ],
   "source": [
    "# 逻辑运算符的案例\n",
    "a = True\n",
    "b = False\n",
    "c = True\n",
    "d = a and b or c   #d = 1 * 0 + 1\n",
    "print(d)\n",
    "\n",
    "d = a or b and a\n",
    "print(d)"
   ]
  },
  {
   "cell_type": "code",
   "execution_count": 40,
   "metadata": {},
   "outputs": [
    {
     "ename": "SyntaxError",
     "evalue": "invalid syntax (<ipython-input-40-56f54157de29>, line 7)",
     "output_type": "error",
     "traceback": [
      "\u001b[1;36m  File \u001b[1;32m\"<ipython-input-40-56f54157de29>\"\u001b[1;36m, line \u001b[1;32m7\u001b[0m\n\u001b[1;33m    a = a or (b = 9) and 6\u001b[0m\n\u001b[1;37m                ^\u001b[0m\n\u001b[1;31mSyntaxError\u001b[0m\u001b[1;31m:\u001b[0m invalid syntax\n"
     ]
    }
   ],
   "source": [
    "# 逻辑运算的短路案例\n",
    "# 下面的逻辑表达式，a的值一定是True，则支行到or的时候，整个表达式不在向下计算\n",
    "a = True or xxxx\n",
    "a = False and (xxxxxxxxxxxxx)\n",
    "# 下面表达式，如果xxx中包含赋值表达式，则结果很难预期\n",
    "b = 9\n",
    "a = a or (b = 9) and 6\n",
    "# 假定上面的表达式没有语法错误\n",
    "# 则b最终的值应该是0而不是9\n",
    "print(a)"
   ]
  },
  {
   "cell_type": "markdown",
   "metadata": {},
   "source": [
    "# 成员运算符号\n",
    "- 用来检测基本一个变量是否是另一个变量的成员\n",
    "- in\n",
    "- not in "
   ]
  },
  {
   "cell_type": "code",
   "execution_count": 42,
   "metadata": {},
   "outputs": [
    {
     "name": "stdout",
     "output_type": "stream",
     "text": [
      "True\n"
     ]
    }
   ],
   "source": [
    "#案例\n",
    "l = [1,2,3,4,5]\n",
    "a = 4\n",
    "b = a in l \n",
    "print(b)"
   ]
  },
  {
   "cell_type": "markdown",
   "metadata": {},
   "source": [
    "# 身份运算\n",
    "- is：用来检测两个变量是否是同一个变量\n",
    "  - 语法就是 var1 is var2\n",
    "- is not ：两个变量不是同一个变量\n",
    "  - 语法就是 var1 is not var2\n",
    " \n",
    "  "
   ]
  },
  {
   "cell_type": "code",
   "execution_count": 45,
   "metadata": {},
   "outputs": [
    {
     "name": "stdout",
     "output_type": "stream",
     "text": [
      "True\n",
      "False\n"
     ]
    }
   ],
   "source": [
    "a = 9 \n",
    "b = 9 \n",
    "print( a is b )\n",
    "\n",
    "a = \"i am song\"\n",
    "b = \"i am song\"\n",
    "print(a is b)"
   ]
  },
  {
   "cell_type": "markdown",
   "metadata": {},
   "source": [
    "# 运算符的优先级问题\n",
    "- 括号具有最高优先级\n",
    "-  括号\n",
    "-  **"
   ]
  },
  {
   "cell_type": "markdown",
   "metadata": {},
   "source": [
    "# 程序结构\n",
    "- 顺序\n",
    "- 分支\n",
    "- 循环\n"
   ]
  },
  {
   "cell_type": "code",
   "execution_count": null,
   "metadata": {},
   "outputs": [],
   "source": []
  },
  {
   "cell_type": "code",
   "execution_count": 16,
   "metadata": {
    "scrolled": true
   },
   "outputs": [
    {
     "name": "stdout",
     "output_type": "stream",
     "text": [
      "i love %s\n"
     ]
    }
   ],
   "source": []
  },
  {
   "cell_type": "code",
   "execution_count": null,
   "metadata": {},
   "outputs": [],
   "source": []
  },
  {
   "cell_type": "code",
   "execution_count": null,
   "metadata": {},
   "outputs": [],
   "source": []
  },
  {
   "cell_type": "code",
   "execution_count": null,
   "metadata": {},
   "outputs": [],
   "source": []
  },
  {
   "cell_type": "code",
   "execution_count": null,
   "metadata": {},
   "outputs": [],
   "source": []
  }
 ],
 "metadata": {
  "kernelspec": {
   "display_name": "Python 3",
   "language": "python",
   "name": "python3"
  },
  "language_info": {
   "codemirror_mode": {
    "name": "ipython",
    "version": 3
   },
   "file_extension": ".py",
   "mimetype": "text/x-python",
   "name": "python",
   "nbconvert_exporter": "python",
   "pygments_lexer": "ipython3",
   "version": "3.7.0"
  }
 },
 "nbformat": 4,
 "nbformat_minor": 2
}
